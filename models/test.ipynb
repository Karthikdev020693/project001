{
 "cells": [
  {
   "cell_type": "code",
   "execution_count": 1,
   "metadata": {},
   "outputs": [],
   "source": [
    "import yfinance as yf\n",
    "from datetime import datetime, timedelta\n",
    "\n",
    "class Stocks:\n",
    "\n",
    "    def __init__(self) -> None:\n",
    "        pass\n",
    "\n",
    "    def get_nifty50stocks(self):\n",
    "\n",
    "        nifty_50_stocks = [\n",
    "            'RELIANCE.NS', 'TCS.NS', 'HDFCBANK.NS', 'INFY.NS', 'HINDUNILVR.NS', \n",
    "            'ICICIBANK.NS', 'SBIN.NS', 'KOTAKBANK.NS', 'BAJFINANCE.NS', 'ITC.NS',\n",
    "            'LT.NS', 'BHARTIARTL.NS', 'ASIANPAINT.NS', 'AXISBANK.NS', 'MARUTI.NS',\n",
    "            'SUNPHARMA.NS', 'HCLTECH.NS', 'WIPRO.NS', 'ULTRACEMCO.NS', 'NTPC.NS',\n",
    "            'POWERGRID.NS', 'TITAN.NS', 'TECHM.NS', 'INDUSINDBK.NS', 'ONGC.NS',\n",
    "            'COALINDIA.NS', 'GRASIM.NS', 'JSWSTEEL.NS', 'ADANIPORTS.NS', 'M&M.NS',\n",
    "            'TATASTEEL.NS', 'HEROMOTOCO.NS', 'DRREDDY.NS', 'DIVISLAB.NS', 'CIPLA.NS',\n",
    "            'BRITANNIA.NS', 'HDFCLIFE.NS', 'BAJAJFINSV.NS', 'SHREECEM.NS', 'EICHERMOT.NS',\n",
    "            'BPCL.NS', 'APOLLOHOSP.NS', 'BAJAJ-AUTO.NS', 'SBILIFE.NS', 'TATAMOTORS.NS',\n",
    "            'UPL.NS', 'VEDL.NS', 'HINDALCO.NS', 'DABUR.NS'\n",
    "        ]\n",
    "\n",
    "        return nifty_50_stocks\n",
    "\n",
    "    def get_stock_info(self, symbol):\n",
    "        \n",
    "        stock = yf.Ticker(symbol)\n",
    "\n",
    "        stock_info = stock.info\n",
    "\n",
    "        return stock_info\n",
    "    \n",
    "    def get_6m_data(self, symbol):\n",
    "\n",
    "        stock = yf.Ticker(symbol)\n",
    "        historical_data = stock.history(period=\"6mo\")\n",
    "        return historical_data\n",
    "    \n",
    "    def get_stock_price(self, symbol, date):\n",
    "        pass\n",
    "\n",
    "\n",
    "\n"
   ]
  },
  {
   "cell_type": "code",
   "execution_count": 16,
   "metadata": {},
   "outputs": [],
   "source": [
    "def get_6m_price(self, symbol):\n",
    "\n",
    "        end_date = datetime.now()\n",
    "        start_date = end_date - timedelta(days=30)\n",
    "        #historical_data = stock.history(period=\"6mo\")\n",
    "        data = yf.download('HDFCBANK.NS', start=start_date, end=end_date)\n",
    "        print(data)"
   ]
  }
 ],
 "metadata": {
  "kernelspec": {
   "display_name": "base",
   "language": "python",
   "name": "python3"
  },
  "language_info": {
   "codemirror_mode": {
    "name": "ipython",
    "version": 3
   },
   "file_extension": ".py",
   "mimetype": "text/x-python",
   "name": "python",
   "nbconvert_exporter": "python",
   "pygments_lexer": "ipython3",
   "version": "3.11.7"
  }
 },
 "nbformat": 4,
 "nbformat_minor": 2
}
